{
  "nbformat": 4,
  "nbformat_minor": 0,
  "metadata": {
    "colab": {
      "name": "Refined_hematoma_CNN.ipynb",
      "provenance": []
    },
    "kernelspec": {
      "name": "python3",
      "display_name": "Python 3"
    },
    "language_info": {
      "name": "python"
    }
  },
  "cells": [
    {
      "cell_type": "code",
      "metadata": {
        "colab": {
          "base_uri": "https://localhost:8080/"
        },
        "id": "cwZiW3HvMZbC",
        "outputId": "f1ce085c-a599-40d9-e580-54da36c84815"
      },
      "source": [
        "import torch as T\n",
        "import torch.nn as nn\n",
        "import torch.nn.functional as F\n",
        "import torch.optim as optim\n",
        "from torchvision.transforms import ToTensor\n",
        "import numpy as np\n",
        "import matplotlib.pyplot as plt\n",
        "import pandas as pd\n",
        "from google.colab import drive\n",
        "drive.mount(\"/content/drive\")"
      ],
      "execution_count": null,
      "outputs": [
        {
          "output_type": "stream",
          "text": [
            "Mounted at /content/drive\n"
          ],
          "name": "stdout"
        }
      ]
    },
    {
      "cell_type": "code",
      "metadata": {
        "id": "HgF4O3nMMb8T"
      },
      "source": [
        "class CNNCell(nn.Module):\n",
        "  def __init__(self,input_channels, output_channels):\n",
        "    super(CNNCell, self).__init__()\n",
        "    self.conv = nn.Conv2d(in_channels=input_channels, kernel_size=3, out_channels=output_channels)\n",
        "    self.bn = nn.BatchNorm2d(num_features=output_channels)\n",
        "    self.relu = nn.ReLU()\n",
        "\n",
        "  def forward(self, batch_data):\n",
        "    output = self.conv(batch_data)\n",
        "    output = self.bn(output)\n",
        "    output = self.relu(output)\n",
        "\n",
        "    return output"
      ],
      "execution_count": null,
      "outputs": []
    },
    {
      "cell_type": "code",
      "metadata": {
        "id": "pIR7QR1wOjVP"
      },
      "source": [
        "class CNNNetwork(nn.Module):\n",
        "  def __init__(self, lr, batch_size, n_classes, epochs):\n",
        "    super(CNNNetwork, self).__init__()\n",
        "    self.lr = lr\n",
        "    self.batch_size = batch_size\n",
        "    self.n_classes = n_classes\n",
        "    self.epochs = epochs\n",
        "    self.device = T.device('cuda:0' if T.cuda.is_available() else 'cpu')\n",
        "    self.loss.history = []\n",
        "    self.acc.history = []\n",
        "\n",
        "    self.cell1 = CNNCell(input_channels=1, output_channels=32)  #input_channels=3 for RGB, output_channels is 1st conv\n",
        "    self.cell2 = CNNCell(input_channels=32, output_channels=32)\n",
        "    self.cell3 = CNNCell(input_channels=32, output_channels=32)\n",
        "    self.max_pool1 = nn.MaxPool2d(kernel_size=2)    # 2x2 maxpooling \n",
        "    self.cell4 = CNNCell(input_channels=32, output_channels=64)  \n",
        "    self.cell5 = CNNCell(input_channels=64, output_channels=64)\n",
        "    self.cell6 = CNNCell(input_channels=64, output_channels=64)\n",
        "\n",
        "    self.mas_pool2 = nn.MaxPool2d(kernel_size=2)\n",
        "    self.network = nnSequential(self.cell1, self.cell2, self.cell3,\n",
        "                            self.max_pool1, self.cell4, self.cell5, self.cell6,\n",
        "                            self.max_pool2)   #builds sequential model on multiple layers\n",
        "\n",
        "    self.fc = nn.Linear(in_features=256, out_features=n_classes)\n",
        "    self.loss = nn.CrossEntropyLoss()\n",
        "\n",
        "    self.optimizer = optim.Adam(self.parameters(), lr=self.lr)\n",
        "\n",
        "    self.to(self.device)\n",
        "    self.get_data()   #might need to modify for drive\n"
      ],
      "execution_count": null,
      "outputs": []
    },
    {
      "cell_type": "code",
      "metadata": {
        "id": "FPGE9G-_TODe"
      },
      "source": [
        "def forward(self, batch_data):\n",
        "  batch_data = T.tensor(batch_data).to(self.device)\n",
        "  output = self.network(batch_data)\n",
        "  output = output.view(-1, 256)\n",
        "  output = self.fc(output)\n",
        "\n",
        "  return output"
      ],
      "execution_count": null,
      "outputs": []
    },
    {
      "cell_type": "code",
      "metadata": {
        "id": "-x9ylIVsTzbc"
      },
      "source": [
        "def get_data(self):\n",
        "  hematoma_train_data = drive('/content/gdrive/Shareddrives/ECE 431 Team Project/intrapar_intravent_train_im', train=true,\n",
        "                              download=true, transform=ToTensor())\n",
        "\n",
        "  self.train_data_loader = T.utils.data.DataLoader(hematoma_train_data, batch_size=self.batch_size, shuffle=True, num_workers=8)\n",
        "  \n",
        "  \n",
        "  hematoma_test_data = drive('/content/gdrive/Shareddrives/ECE 431 Team Project/intraparenchymal', train=false, download=true, transform=ToTensor())\n",
        "\n",
        "\n",
        "  self.test_data_loader = T.utils.data.DataLoader(hematoma_test_data, batch_size=self.batch_size, shuffle=True, num_workers=8)"
      ],
      "execution_count": null,
      "outputs": []
    },
    {
      "cell_type": "code",
      "metadata": {
        "id": "Av7z5jXPZjCm"
      },
      "source": [
        "def _train(self):\n",
        "  self.train()\n",
        "  for i in range(self.epochs):\n",
        "    ep_loss = 0\n",
        "    ep_acc = []\n",
        "    for j, (input, label) in enumerate(self.train_data_loader):\n",
        "      self.optimizer.zero_grad()\n",
        "      label = label.to(self.device)\n",
        "      prediction = self.forward(input)\n",
        "      classes = T.argmax(prediction, dim=1)\n",
        "      wrong = T.where(classes != label, T.tensor([1.]).to(self.device),T.tensor([0.]).to(self.device))\n",
        "      acc = 1 - T.sum(wrong) / self.batch_size\n",
        "      loss = self.loss(prediction, lable)\n",
        "      ep_acc.append(acc.item())\n",
        "      ep_loss += loss.item()\n",
        "      ep_acc.append(acc.item())\n",
        "      loss.backward()\n",
        "      self.optimizer.step()\n",
        "    print('Finish epoch ',i, 'total loss %.3f trainning accuracy %.3f' % \\\n",
        "          (ep_loss, np.mean(ep_acc)))\n",
        "    self.loss_history.append(ep_loss)"
      ],
      "execution_count": null,
      "outputs": []
    },
    {
      "cell_type": "code",
      "metadata": {
        "id": "MydP1835bkFz"
      },
      "source": [
        "def _test(self):\n",
        "  self.eval()\n",
        "  ep_loss = 0\n",
        "  ep_acc = []\n",
        "  for j, (input, label) in enumerate(self.test_data_loader):\n",
        "      self.optimizer.zero_grad()\n",
        "      label = label.to(self.device)\n",
        "      prediction = self.forward(input)\n",
        "      classes = T.argmax(prediction, dim=1)\n",
        "      wrong = T.where(classes != label, T.tensor([1.]).to(self.device),T.tensor([0.]).to(self.device))\n",
        "      acc = 1 - T.sum(wrong) / self.batch_size \n",
        "      loss = self.loss(prediction, label)\n",
        "      self.ep_acc.append(acc.item())\n",
        "      ep_loss += loss.item()\n",
        "  print('Total loss %.3f accuracy %.3f ' % ep_loss, mp.mean(ep_loss))\n",
        "  self.loss_history.append(ep_loss)"
      ],
      "execution_count": null,
      "outputs": []
    },
    {
      "cell_type": "code",
      "metadata": {
        "colab": {
          "base_uri": "https://localhost:8080/",
          "height": 502
        },
        "id": "Tai4uKEzcvoE",
        "outputId": "77822059-3e8e-4b00-ba19-77b20f00afcc"
      },
      "source": [
        "if __name__ == '__main__':\n",
        "  network = CNNNetwork(lr=0.001, batch_size=32, epochs=100, n_classes=2) #n_classes ie. hematoma type\n",
        "  network._train()\n",
        "  plt.plot(network.loss_history)\n",
        "  plt.show()\n",
        "  plt.plot(network.acc_history)\n",
        "  plt.show()\n",
        "  network._test()"
      ],
      "execution_count": null,
      "outputs": [
        {
          "output_type": "error",
          "ename": "AttributeError",
          "evalue": "ignored",
          "traceback": [
            "\u001b[0;31m---------------------------------------------------------------------------\u001b[0m",
            "\u001b[0;31mAttributeError\u001b[0m                            Traceback (most recent call last)",
            "\u001b[0;32m<ipython-input-40-14baf7654083>\u001b[0m in \u001b[0;36m<module>\u001b[0;34m()\u001b[0m\n\u001b[1;32m      1\u001b[0m \u001b[0;32mif\u001b[0m \u001b[0m__name__\u001b[0m \u001b[0;34m==\u001b[0m \u001b[0;34m'__main__'\u001b[0m\u001b[0;34m:\u001b[0m\u001b[0;34m\u001b[0m\u001b[0;34m\u001b[0m\u001b[0m\n\u001b[0;32m----> 2\u001b[0;31m   \u001b[0mnetwork\u001b[0m \u001b[0;34m=\u001b[0m \u001b[0mCNNNetwork\u001b[0m\u001b[0;34m(\u001b[0m\u001b[0mlr\u001b[0m\u001b[0;34m=\u001b[0m\u001b[0;36m0.001\u001b[0m\u001b[0;34m,\u001b[0m \u001b[0mbatch_size\u001b[0m\u001b[0;34m=\u001b[0m\u001b[0;36m32\u001b[0m\u001b[0;34m,\u001b[0m \u001b[0mepochs\u001b[0m\u001b[0;34m=\u001b[0m\u001b[0;36m100\u001b[0m\u001b[0;34m,\u001b[0m \u001b[0mn_classes\u001b[0m\u001b[0;34m=\u001b[0m\u001b[0;36m2\u001b[0m\u001b[0;34m)\u001b[0m \u001b[0;31m#n_classes ie. hematoma type\u001b[0m\u001b[0;34m\u001b[0m\u001b[0;34m\u001b[0m\u001b[0m\n\u001b[0m\u001b[1;32m      3\u001b[0m   \u001b[0mnetwork\u001b[0m\u001b[0;34m.\u001b[0m\u001b[0m_train\u001b[0m\u001b[0;34m(\u001b[0m\u001b[0;34m)\u001b[0m\u001b[0;34m\u001b[0m\u001b[0;34m\u001b[0m\u001b[0m\n\u001b[1;32m      4\u001b[0m   \u001b[0mplt\u001b[0m\u001b[0;34m.\u001b[0m\u001b[0mplot\u001b[0m\u001b[0;34m(\u001b[0m\u001b[0mnetwork\u001b[0m\u001b[0;34m.\u001b[0m\u001b[0mloss_history\u001b[0m\u001b[0;34m)\u001b[0m\u001b[0;34m\u001b[0m\u001b[0;34m\u001b[0m\u001b[0m\n\u001b[1;32m      5\u001b[0m   \u001b[0mplt\u001b[0m\u001b[0;34m.\u001b[0m\u001b[0mshow\u001b[0m\u001b[0;34m(\u001b[0m\u001b[0;34m)\u001b[0m\u001b[0;34m\u001b[0m\u001b[0;34m\u001b[0m\u001b[0m\n",
            "\u001b[0;32m<ipython-input-35-2b4ca65d2247>\u001b[0m in \u001b[0;36m__init__\u001b[0;34m(self, lr, batch_size, n_classes, epochs)\u001b[0m\n\u001b[1;32m      7\u001b[0m     \u001b[0mself\u001b[0m\u001b[0;34m.\u001b[0m\u001b[0mepochs\u001b[0m \u001b[0;34m=\u001b[0m \u001b[0mepochs\u001b[0m\u001b[0;34m\u001b[0m\u001b[0;34m\u001b[0m\u001b[0m\n\u001b[1;32m      8\u001b[0m     \u001b[0mself\u001b[0m\u001b[0;34m.\u001b[0m\u001b[0mdevice\u001b[0m \u001b[0;34m=\u001b[0m \u001b[0mT\u001b[0m\u001b[0;34m.\u001b[0m\u001b[0mdevice\u001b[0m\u001b[0;34m(\u001b[0m\u001b[0;34m'cuda:0'\u001b[0m \u001b[0;32mif\u001b[0m \u001b[0mT\u001b[0m\u001b[0;34m.\u001b[0m\u001b[0mcuda\u001b[0m\u001b[0;34m.\u001b[0m\u001b[0mis_available\u001b[0m\u001b[0;34m(\u001b[0m\u001b[0;34m)\u001b[0m \u001b[0;32melse\u001b[0m \u001b[0;34m'cpu'\u001b[0m\u001b[0;34m)\u001b[0m\u001b[0;34m\u001b[0m\u001b[0;34m\u001b[0m\u001b[0m\n\u001b[0;32m----> 9\u001b[0;31m     \u001b[0mself\u001b[0m\u001b[0;34m.\u001b[0m\u001b[0mloss\u001b[0m\u001b[0;34m.\u001b[0m\u001b[0mhistory\u001b[0m \u001b[0;34m=\u001b[0m \u001b[0;34m[\u001b[0m\u001b[0;34m]\u001b[0m\u001b[0;34m\u001b[0m\u001b[0;34m\u001b[0m\u001b[0m\n\u001b[0m\u001b[1;32m     10\u001b[0m     \u001b[0mself\u001b[0m\u001b[0;34m.\u001b[0m\u001b[0macc\u001b[0m\u001b[0;34m.\u001b[0m\u001b[0mhistory\u001b[0m \u001b[0;34m=\u001b[0m \u001b[0;34m[\u001b[0m\u001b[0;34m]\u001b[0m\u001b[0;34m\u001b[0m\u001b[0;34m\u001b[0m\u001b[0m\n\u001b[1;32m     11\u001b[0m \u001b[0;34m\u001b[0m\u001b[0m\n",
            "\u001b[0;32m/usr/local/lib/python3.7/dist-packages/torch/nn/modules/module.py\u001b[0m in \u001b[0;36m__getattr__\u001b[0;34m(self, name)\u001b[0m\n\u001b[1;32m    946\u001b[0m                 \u001b[0;32mreturn\u001b[0m \u001b[0mmodules\u001b[0m\u001b[0;34m[\u001b[0m\u001b[0mname\u001b[0m\u001b[0;34m]\u001b[0m\u001b[0;34m\u001b[0m\u001b[0;34m\u001b[0m\u001b[0m\n\u001b[1;32m    947\u001b[0m         raise AttributeError(\"'{}' object has no attribute '{}'\".format(\n\u001b[0;32m--> 948\u001b[0;31m             type(self).__name__, name))\n\u001b[0m\u001b[1;32m    949\u001b[0m \u001b[0;34m\u001b[0m\u001b[0m\n\u001b[1;32m    950\u001b[0m     \u001b[0;32mdef\u001b[0m \u001b[0m__setattr__\u001b[0m\u001b[0;34m(\u001b[0m\u001b[0mself\u001b[0m\u001b[0;34m,\u001b[0m \u001b[0mname\u001b[0m\u001b[0;34m:\u001b[0m \u001b[0mstr\u001b[0m\u001b[0;34m,\u001b[0m \u001b[0mvalue\u001b[0m\u001b[0;34m:\u001b[0m \u001b[0mUnion\u001b[0m\u001b[0;34m[\u001b[0m\u001b[0mTensor\u001b[0m\u001b[0;34m,\u001b[0m \u001b[0;34m'Module'\u001b[0m\u001b[0;34m]\u001b[0m\u001b[0;34m)\u001b[0m \u001b[0;34m->\u001b[0m \u001b[0;32mNone\u001b[0m\u001b[0;34m:\u001b[0m\u001b[0;34m\u001b[0m\u001b[0;34m\u001b[0m\u001b[0m\n",
            "\u001b[0;31mAttributeError\u001b[0m: 'CNNNetwork' object has no attribute 'loss'"
          ]
        }
      ]
    }
  ]
}